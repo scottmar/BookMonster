{
 "cells": [
  {
   "cell_type": "code",
   "execution_count": 2,
   "metadata": {
    "collapsed": true
   },
   "outputs": [],
   "source": [
    "#get libraries\n",
    "import numpy as np\n",
    "import pandas as pd\n",
    "import requests as rq\n",
    "import bs4"
   ]
  },
  {
   "cell_type": "code",
   "execution_count": null,
   "metadata": {
    "collapsed": true
   },
   "outputs": [],
   "source": [
    "#add credentials and get log-in token\n"
   ]
  },
  {
   "cell_type": "code",
   "execution_count": 5,
   "metadata": {
    "collapsed": false
   },
   "outputs": [],
   "source": [
    "#scan the page\n",
    "user_id=\"18552562-scott-margeson\"\n",
    "shelf=\"read\"\n",
    "per_page=\"infinite\"\n",
    "\n",
    "url=\"https://www.goodreads.com/review/list/\"+user_id+\"?shelf=\"+shelf+\"&per_page=\"+per_page\n",
    "\n",
    "response = rq.get(url)\n"
   ]
  },
  {
   "cell_type": "code",
   "execution_count": 6,
   "metadata": {
    "collapsed": true
   },
   "outputs": [],
   "source": [
    "#make the soup, add parse-ly\n",
    "soup=bs4.BeautifulSoup(response.text,\"html.parser\")"
   ]
  },
  {
   "cell_type": "code",
   "execution_count": 8,
   "metadata": {
    "collapsed": false
   },
   "outputs": [
    {
     "data": {
      "text/plain": [
       "<title>\n",
       "Scott Margeson (254 books)\n",
       "</title>"
      ]
     },
     "execution_count": 8,
     "metadata": {},
     "output_type": "execute_result"
    }
   ],
   "source": [
    "soup.title"
   ]
  },
  {
   "cell_type": "code",
   "execution_count": 12,
   "metadata": {
    "collapsed": false
   },
   "outputs": [
    {
     "data": {
      "text/plain": [
       "[<table border=\"0\" cellspacing=\"3\" width=\"100%\">\n",
       " <tr valign=\"top\">\n",
       " <td width=\"120px\">\n",
       " <img alt=\"Scott\" src=\"https://images.gr-assets.com/users/1363791245p3/18552562.jpg\" title=\"Scott\"/>\n",
       " <br/>\n",
       " <div class=\"smallText\">\n",
       " \t\t\t\t128 ratings |\n",
       " \t\t\t\t12 reviews\n",
       " \t\t\t\t<br/>\n",
       " <a href=\"#\" onclick=\"Element.toggle('ratingDistribution18552562');; new Ajax.Updater('ratingDistribution18552562', '/user/rating_distribution/18552562', {asynchronous:true, evalScripts:true, method:'get', onComplete:function(request){return false;}, parameters:'authenticity_token=' + encodeURIComponent('91DTSYXgOesgHr4U2NhtQHlme7VwEl4NXXIH+a3S00s8lWjUj8GvPVCRN45wCNYvCrhetLiIjHGtIEs20aV8UQ==')}); return false;\">avg rating: 4.10</a>\n",
       " <div class=\"floatingBox\" id=\"ratingDistribution18552562\" style=\"display:none; width: 550px\"></div>\n",
       " </div>\n",
       " </td>\n",
       " <td>\n",
       " <div class=\"bigGreyBox\"><div class=\"bigGreyBoxBody\"><div class=\"bigGreyBoxContent\">\n",
       " <div class=\"mediumText\" id=\"privateProfile\" style=\"width: 90%; padding: 10px;\">\n",
       " \t\t\t        This Profile Is Restricted to Goodreads Users.\n",
       "             <br/><br/>\n",
       "       \t\t\tSign in to Goodreads to Learn More About Scott.\n",
       "       \t\t\t<br/><br/>\n",
       " <div style=\"text-align:center\">\n",
       " <a class=\"button\" href=\"/user/new?remember=true\" rel=\"nofollow\">sign up »</a>\n",
       " </div>\n",
       " </div>\n",
       " </div></div><div class=\"bigGreyBoxBottom\"></div></div><br class=\"clear\"/> <br/>\n",
       " <span id=\"userActions\">\n",
       " <a class=\"gr-button\" href=\"/friend/add_as_friend/18552562?return_url=%2Fuser%2Fshow%2F18552562-scott-margeson\" rel=\"nofollow\">Add friend</a>\n",
       " </span>\n",
       " </td>\n",
       " </tr>\n",
       " </table>]"
      ]
     },
     "execution_count": 12,
     "metadata": {},
     "output_type": "execute_result"
    }
   ],
   "source": [
    "soup.findAll('table')"
   ]
  }
 ],
 "metadata": {
  "kernelspec": {
   "display_name": "Python 3",
   "language": "python",
   "name": "python3"
  },
  "language_info": {
   "codemirror_mode": {
    "name": "ipython",
    "version": 3
   },
   "file_extension": ".py",
   "mimetype": "text/x-python",
   "name": "python",
   "nbconvert_exporter": "python",
   "pygments_lexer": "ipython3",
   "version": "3.6.0"
  }
 },
 "nbformat": 4,
 "nbformat_minor": 2
}
